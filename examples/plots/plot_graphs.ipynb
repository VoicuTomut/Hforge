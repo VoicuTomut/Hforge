{
 "cells": [
  {
   "cell_type": "code",
   "execution_count": 1,
   "id": "9d5a6834",
   "metadata": {},
   "outputs": [
    {
     "name": "stderr",
     "output_type": "stream",
     "text": [
      "c:\\Users\\angel\\Documents\\GitHub\\Hforge\\.venv\\Lib\\site-packages\\tqdm\\auto.py:21: TqdmWarning: IProgress not found. Please update jupyter and ipywidgets. See https://ipywidgets.readthedocs.io/en/stable/user_install.html\n",
      "  from .autonotebook import tqdm as notebook_tqdm\n",
      "  0%|          | 0/1 [00:00<?, ?it/s]\n"
     ]
    },
    {
     "name": "stdout",
     "output_type": "stream",
     "text": [
      "0\n",
      "['C:\\\\Users\\\\angel\\\\Documents\\\\GitHub\\\\Hforge\\\\Data\\\\aBN_HSX_graphs\\\\2_atoms\\\\graph_2atoms_0000.pt']\n"
     ]
    },
    {
     "ename": "AttributeError",
     "evalue": "'list' object has no attribute 'seek'. You can only torch.load from a file that is seekable. Please pre-load the data into a buffer like io.BytesIO and try to load from it instead.",
     "output_type": "error",
     "traceback": [
      "\u001b[31m---------------------------------------------------------------------------\u001b[39m",
      "\u001b[31mAttributeError\u001b[39m                            Traceback (most recent call last)",
      "\u001b[36mFile \u001b[39m\u001b[32mc:\\Users\\angel\\Documents\\GitHub\\Hforge\\.venv\\Lib\\site-packages\\torch\\serialization.py:851\u001b[39m, in \u001b[36m_check_seekable\u001b[39m\u001b[34m(f)\u001b[39m\n\u001b[32m    850\u001b[39m \u001b[38;5;28;01mtry\u001b[39;00m:\n\u001b[32m--> \u001b[39m\u001b[32m851\u001b[39m     \u001b[43mf\u001b[49m\u001b[43m.\u001b[49m\u001b[43mseek\u001b[49m(f.tell())\n\u001b[32m    852\u001b[39m     \u001b[38;5;28;01mreturn\u001b[39;00m \u001b[38;5;28;01mTrue\u001b[39;00m\n",
      "\u001b[31mAttributeError\u001b[39m: 'list' object has no attribute 'seek'",
      "\nDuring handling of the above exception, another exception occurred:\n",
      "\u001b[31mAttributeError\u001b[39m                            Traceback (most recent call last)",
      "\u001b[36mCell\u001b[39m\u001b[36m \u001b[39m\u001b[32mIn[1]\u001b[39m\u001b[32m, line 57\u001b[39m\n\u001b[32m     55\u001b[39m \u001b[38;5;28;01mfor\u001b[39;00m i \u001b[38;5;129;01min\u001b[39;00m tqdm(\u001b[38;5;28mrange\u001b[39m(\u001b[38;5;28mlen\u001b[39m(dataset))):\n\u001b[32m     56\u001b[39m     \u001b[38;5;28mprint\u001b[39m(i)\n\u001b[32m---> \u001b[39m\u001b[32m57\u001b[39m     graph = \u001b[43mdataset\u001b[49m\u001b[43m[\u001b[49m\u001b[43mi\u001b[49m\u001b[43m]\u001b[49m\n\u001b[32m     58\u001b[39m     plot_graph(graph, title=\u001b[33m\"\u001b[39m\u001b[33mExample Graph\u001b[39m\u001b[33m\"\u001b[39m)\n\u001b[32m     59\u001b[39m     plot_graph_3d(graph, title=\u001b[33m\"\u001b[39m\u001b[33mExample Graph\u001b[39m\u001b[33m\"\u001b[39m)\n",
      "\u001b[36mFile \u001b[39m\u001b[32m~\\Documents\\GitHub\\Hforge\\src\\hforge\\graph_dataset.py:193\u001b[39m, in \u001b[36mLazyGraphDataset.__getitem__\u001b[39m\u001b[34m(self, idx)\u001b[39m\n\u001b[32m    191\u001b[39m \u001b[38;5;28;01mdef\u001b[39;00m\u001b[38;5;250m \u001b[39m\u001b[34m__getitem__\u001b[39m(\u001b[38;5;28mself\u001b[39m, idx):\n\u001b[32m    192\u001b[39m     \u001b[38;5;28mprint\u001b[39m(\u001b[38;5;28mself\u001b[39m.files[idx])\n\u001b[32m--> \u001b[39m\u001b[32m193\u001b[39m     graph = \u001b[43mtorch\u001b[49m\u001b[43m.\u001b[49m\u001b[43mload\u001b[49m\u001b[43m(\u001b[49m\u001b[38;5;28;43mself\u001b[39;49m\u001b[43m.\u001b[49m\u001b[43mfiles\u001b[49m\u001b[43m[\u001b[49m\u001b[43midx\u001b[49m\u001b[43m]\u001b[49m\u001b[43m,\u001b[49m\u001b[43m \u001b[49m\u001b[43mweights_only\u001b[49m\u001b[43m=\u001b[49m\u001b[38;5;28;43;01mFalse\u001b[39;49;00m\u001b[43m)\u001b[49m\n\u001b[32m    194\u001b[39m     \u001b[38;5;28;01mreturn\u001b[39;00m graph\n",
      "\u001b[36mFile \u001b[39m\u001b[32mc:\\Users\\angel\\Documents\\GitHub\\Hforge\\.venv\\Lib\\site-packages\\torch\\serialization.py:1425\u001b[39m, in \u001b[36mload\u001b[39m\u001b[34m(f, map_location, pickle_module, weights_only, mmap, **pickle_load_args)\u001b[39m\n\u001b[32m   1422\u001b[39m \u001b[38;5;28;01mif\u001b[39;00m \u001b[33m\"\u001b[39m\u001b[33mencoding\u001b[39m\u001b[33m\"\u001b[39m \u001b[38;5;129;01mnot\u001b[39;00m \u001b[38;5;129;01min\u001b[39;00m pickle_load_args.keys():\n\u001b[32m   1423\u001b[39m     pickle_load_args[\u001b[33m\"\u001b[39m\u001b[33mencoding\u001b[39m\u001b[33m\"\u001b[39m] = \u001b[33m\"\u001b[39m\u001b[33mutf-8\u001b[39m\u001b[33m\"\u001b[39m\n\u001b[32m-> \u001b[39m\u001b[32m1425\u001b[39m \u001b[38;5;28;01mwith\u001b[39;00m \u001b[43m_open_file_like\u001b[49m\u001b[43m(\u001b[49m\u001b[43mf\u001b[49m\u001b[43m,\u001b[49m\u001b[43m \u001b[49m\u001b[33;43m\"\u001b[39;49m\u001b[33;43mrb\u001b[39;49m\u001b[33;43m\"\u001b[39;49m\u001b[43m)\u001b[49m \u001b[38;5;28;01mas\u001b[39;00m opened_file:\n\u001b[32m   1426\u001b[39m     \u001b[38;5;28;01mif\u001b[39;00m _is_zipfile(opened_file):\n\u001b[32m   1427\u001b[39m         \u001b[38;5;66;03m# The zipfile reader is going to advance the current file position.\u001b[39;00m\n\u001b[32m   1428\u001b[39m         \u001b[38;5;66;03m# If we want to actually tail call to torch.jit.load, we need to\u001b[39;00m\n\u001b[32m   1429\u001b[39m         \u001b[38;5;66;03m# reset back to the original position.\u001b[39;00m\n\u001b[32m   1430\u001b[39m         orig_position = opened_file.tell()\n",
      "\u001b[36mFile \u001b[39m\u001b[32mc:\\Users\\angel\\Documents\\GitHub\\Hforge\\.venv\\Lib\\site-packages\\torch\\serialization.py:756\u001b[39m, in \u001b[36m_open_file_like\u001b[39m\u001b[34m(name_or_buffer, mode)\u001b[39m\n\u001b[32m    754\u001b[39m     \u001b[38;5;28;01mreturn\u001b[39;00m _open_buffer_writer(name_or_buffer)\n\u001b[32m    755\u001b[39m \u001b[38;5;28;01melif\u001b[39;00m \u001b[33m\"\u001b[39m\u001b[33mr\u001b[39m\u001b[33m\"\u001b[39m \u001b[38;5;129;01min\u001b[39;00m mode:\n\u001b[32m--> \u001b[39m\u001b[32m756\u001b[39m     \u001b[38;5;28;01mreturn\u001b[39;00m \u001b[43m_open_buffer_reader\u001b[49m\u001b[43m(\u001b[49m\u001b[43mname_or_buffer\u001b[49m\u001b[43m)\u001b[49m\n\u001b[32m    757\u001b[39m \u001b[38;5;28;01melse\u001b[39;00m:\n\u001b[32m    758\u001b[39m     \u001b[38;5;28;01mraise\u001b[39;00m \u001b[38;5;167;01mRuntimeError\u001b[39;00m(\u001b[33mf\u001b[39m\u001b[33m\"\u001b[39m\u001b[33mExpected \u001b[39m\u001b[33m'\u001b[39m\u001b[33mr\u001b[39m\u001b[33m'\u001b[39m\u001b[33m or \u001b[39m\u001b[33m'\u001b[39m\u001b[33mw\u001b[39m\u001b[33m'\u001b[39m\u001b[33m in mode but got \u001b[39m\u001b[38;5;132;01m{\u001b[39;00mmode\u001b[38;5;132;01m}\u001b[39;00m\u001b[33m\"\u001b[39m)\n",
      "\u001b[36mFile \u001b[39m\u001b[32mc:\\Users\\angel\\Documents\\GitHub\\Hforge\\.venv\\Lib\\site-packages\\torch\\serialization.py:741\u001b[39m, in \u001b[36m_open_buffer_reader.__init__\u001b[39m\u001b[34m(self, buffer)\u001b[39m\n\u001b[32m    739\u001b[39m \u001b[38;5;28;01mdef\u001b[39;00m\u001b[38;5;250m \u001b[39m\u001b[34m__init__\u001b[39m(\u001b[38;5;28mself\u001b[39m, buffer):\n\u001b[32m    740\u001b[39m     \u001b[38;5;28msuper\u001b[39m().\u001b[34m__init__\u001b[39m(buffer)\n\u001b[32m--> \u001b[39m\u001b[32m741\u001b[39m     \u001b[43m_check_seekable\u001b[49m\u001b[43m(\u001b[49m\u001b[43mbuffer\u001b[49m\u001b[43m)\u001b[49m\n",
      "\u001b[36mFile \u001b[39m\u001b[32mc:\\Users\\angel\\Documents\\GitHub\\Hforge\\.venv\\Lib\\site-packages\\torch\\serialization.py:854\u001b[39m, in \u001b[36m_check_seekable\u001b[39m\u001b[34m(f)\u001b[39m\n\u001b[32m    852\u001b[39m     \u001b[38;5;28;01mreturn\u001b[39;00m \u001b[38;5;28;01mTrue\u001b[39;00m\n\u001b[32m    853\u001b[39m \u001b[38;5;28;01mexcept\u001b[39;00m (io.UnsupportedOperation, \u001b[38;5;167;01mAttributeError\u001b[39;00m) \u001b[38;5;28;01mas\u001b[39;00m e:\n\u001b[32m--> \u001b[39m\u001b[32m854\u001b[39m     \u001b[43mraise_err_msg\u001b[49m\u001b[43m(\u001b[49m\u001b[43m[\u001b[49m\u001b[33;43m\"\u001b[39;49m\u001b[33;43mseek\u001b[39;49m\u001b[33;43m\"\u001b[39;49m\u001b[43m,\u001b[49m\u001b[43m \u001b[49m\u001b[33;43m\"\u001b[39;49m\u001b[33;43mtell\u001b[39;49m\u001b[33;43m\"\u001b[39;49m\u001b[43m]\u001b[49m\u001b[43m,\u001b[49m\u001b[43m \u001b[49m\u001b[43me\u001b[49m\u001b[43m)\u001b[49m\n\u001b[32m    855\u001b[39m \u001b[38;5;28;01mreturn\u001b[39;00m \u001b[38;5;28;01mFalse\u001b[39;00m\n",
      "\u001b[36mFile \u001b[39m\u001b[32mc:\\Users\\angel\\Documents\\GitHub\\Hforge\\.venv\\Lib\\site-packages\\torch\\serialization.py:847\u001b[39m, in \u001b[36m_check_seekable.<locals>.raise_err_msg\u001b[39m\u001b[34m(patterns, e)\u001b[39m\n\u001b[32m    840\u001b[39m     \u001b[38;5;28;01mif\u001b[39;00m p \u001b[38;5;129;01min\u001b[39;00m \u001b[38;5;28mstr\u001b[39m(e):\n\u001b[32m    841\u001b[39m         msg = (\n\u001b[32m    842\u001b[39m             \u001b[38;5;28mstr\u001b[39m(e)\n\u001b[32m    843\u001b[39m             + \u001b[33m\"\u001b[39m\u001b[33m. You can only torch.load from a file that is seekable.\u001b[39m\u001b[33m\"\u001b[39m\n\u001b[32m    844\u001b[39m             + \u001b[33m\"\u001b[39m\u001b[33m Please pre-load the data into a buffer like io.BytesIO and\u001b[39m\u001b[33m\"\u001b[39m\n\u001b[32m    845\u001b[39m             + \u001b[33m\"\u001b[39m\u001b[33m try to load from it instead.\u001b[39m\u001b[33m\"\u001b[39m\n\u001b[32m    846\u001b[39m         )\n\u001b[32m--> \u001b[39m\u001b[32m847\u001b[39m         \u001b[38;5;28;01mraise\u001b[39;00m \u001b[38;5;28mtype\u001b[39m(e)(msg)\n\u001b[32m    848\u001b[39m \u001b[38;5;28;01mraise\u001b[39;00m e\n",
      "\u001b[31mAttributeError\u001b[39m: 'list' object has no attribute 'seek'. You can only torch.load from a file that is seekable. Please pre-load the data into a buffer like io.BytesIO and try to load from it instead."
     ]
    }
   ],
   "source": [
    "import os\n",
    "from matplotlib import pyplot as plt\n",
    "import networkx as nx\n",
    "from torch_geometric.utils import to_networkx\n",
    "from tqdm import tqdm\n",
    "\n",
    "from hforge.data_management.dataset_load import load_graph_dataset_from_parent_dir\n",
    "from hforge.graph_dataset import LazyGraphDataset\n",
    "from hforge.utils.importing_facilities import load_config\n",
    "\n",
    "def plot_graph(graph, title=\"Graph\"):\n",
    "    G = to_networkx(graph, to_undirected=True)\n",
    "    pos = nx.spring_layout(G)\n",
    "    plt.figure()\n",
    "    nx.draw(G, pos, with_labels=True, node_color='skyblue', edge_color='gray', node_size=500, font_size=10)\n",
    "    plt.title(title)\n",
    "    plt.show()\n",
    "\n",
    "def plot_graph_3d(graph, title=\"Graph\"):\n",
    "    G = to_networkx(graph, to_undirected=True)\n",
    "    pos = {i: graph.pos[i].numpy() for i in range(graph.num_nodes)}\n",
    "\n",
    "    fig = plt.figure()\n",
    "    ax = fig.add_subplot(111, projection='3d')\n",
    "\n",
    "    # Draw nodes\n",
    "    xs, ys, zs = zip(*[pos[i] for i in G.nodes()])\n",
    "    ax.scatter(xs, ys, zs, c='skyblue', s=100)\n",
    "\n",
    "    # Draw edges\n",
    "    for edge in G.edges():\n",
    "        x = [pos[edge[0]][0], pos[edge[1]][0]]\n",
    "        y = [pos[edge[0]][1], pos[edge[1]][1]]\n",
    "        z = [pos[edge[0]][2], pos[edge[1]][2]]\n",
    "        ax.plot(x, y, z, c='gray')\n",
    "\n",
    "    ax.set_title(title)\n",
    "    ax.set_xlabel('x')\n",
    "    ax.set_ylabel('y')\n",
    "    ax.set_zlabel('z')\n",
    "    plt.show()\n",
    "\n",
    "# Load the dataset from disk\n",
    "dataset_place_alapena = r\"../../Data/aBN_HSX_alapena\"\n",
    "dataset_place_andrei = r\"../../Data/aBN_HSX\"\n",
    "graph_dataset = r\"C:\\Users\\angel\\Documents\\GitHub\\Hforge\\Data\\aBN_HSX_graphs\\2_atoms\"\n",
    "\n",
    "# Plot\n",
    "config = load_config(\"../training_loop/training_loop_config.yaml\")\n",
    "dataset_config = config[\"dataset\"]\n",
    "orbitals = config[\"orbitals\"]\n",
    "\n",
    "dataset = LazyGraphDataset(n_atoms_dir=graph_dataset, max_samples=None, seed=None)\n",
    "\n",
    "for i in tqdm(range(len(dataset))):\n",
    "    print(i)\n",
    "    graph = dataset[i]\n",
    "    plot_graph(graph, title=\"Example Graph\")\n",
    "    plot_graph_3d(graph, title=\"Example Graph\")\n",
    "    break\n"
   ]
  },
  {
   "cell_type": "code",
   "execution_count": null,
   "id": "d5d32730",
   "metadata": {},
   "outputs": [],
   "source": []
  }
 ],
 "metadata": {
  "kernelspec": {
   "display_name": ".venv",
   "language": "python",
   "name": "python3"
  },
  "language_info": {
   "codemirror_mode": {
    "name": "ipython",
    "version": 3
   },
   "file_extension": ".py",
   "mimetype": "text/x-python",
   "name": "python",
   "nbconvert_exporter": "python",
   "pygments_lexer": "ipython3",
   "version": "3.12.10"
  }
 },
 "nbformat": 4,
 "nbformat_minor": 5
}
